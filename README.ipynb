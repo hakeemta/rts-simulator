{
 "cells": [
  {
   "cell_type": "markdown",
   "metadata": {},
   "source": [
    "# Real-Time Scheduling Simulator"
   ]
  },
  {
   "cell_type": "markdown",
   "metadata": {},
   "source": [
    "## Description"
   ]
  },
  {
   "cell_type": "markdown",
   "metadata": {},
   "source": [
    "This project demonstrates the fundamentals of real-time scheduling. A real-time system consists of a set of real-time tasks scheduled to run upon a platform of processor(s). The task model considered in this project is briefly described below."
   ]
  },
  {
   "cell_type": "markdown",
   "metadata": {},
   "source": [
    "### Task System Model\n",
    "\n",
    "A task $\\tau_i$ is characterized by a tuple $(C_i, D_i, T_i)$, where $C_i$ is the worst-case execution time (WCET), $D_i$ is the relative deadline, and $T_i$ is the period or minimum inter-arrival time between two consecutive releases of the task. We consider an implicit-deadline task-model such that $D_i = T_i$. A task $\\tau_i$ generates a potentially infinite number of successive releases (or jobs). The utilization $U_i = C_i/T_i$ is the processor demand of the task.\n",
    "\n",
    "In addition to the static parameters of a task, the dynamic attributes during the run-time at timestep $t$ include (i) the pending execution time $C_i(t)$, (ii) the residual relative deadline $D_i(t)$, and (iii) the instantaneous laxity $L_i(t) = D_i(t) - C_i(t)$.\n",
    "\n",
    "Given the task model described above, the task system comprises a set $\\tau = \\{\\tau_1, \\tau_2, ..., \\tau_n\\}$ of $n$ independent implicit-dealine tasks to execute on a homogeneous platform of $m$ cores (or processors) (i.e., all cores have the same computing capabilities and are interchangeable), following a preemptive global scheduler. The total utilization of a task set must be less than or equal to the total capacity of the processor platform. In this project, we consider unit-speed cores, therefore $U = \\sum_{i = 1}^{n} U_i \\leq m$\n",
    "\n",
    "### Preemptive Global Schedulers\n",
    "A preemptive scheduler allows the executin of a task's job to be preempted by the job of another task (usually of higher priority) to ensure the timing requirements are met (in this, tasks do not miss their deadlines). This project implements the following preemptive global schedulers:\n",
    "- Proportional Fairness (pFair)\n",
    "- Least Laxity First (LLF)\n",
    "- Deadline Monotonic (DM)\n",
    "- Earliest Deadline First (EDF)"
   ]
  },
  {
   "cell_type": "markdown",
   "metadata": {},
   "source": [
    "## File and Class Structure"
   ]
  },
  {
   "cell_type": "markdown",
   "metadata": {},
   "source": [
    "### File Structure\n",
    "\n",
    "```\n",
    ".\n",
    "├── build               # Compiled files\n",
    "├── include             # Header files\n",
    "│   ├── algorithms      # Header files for scheduler algorithms\n",
    "│   │   ├── PFair.hpp\n",
    "│   │   └── PriorityDriven.hpp  \n",
    "│   ├── AsyncTask.hpp   \n",
    "│   ├── Display.hpp   \n",
    "│   ├── Processor.hpp   \n",
    "│   ├── Resource.hpp\n",
    "│   ├── Task.hpp    \n",
    "│   ├── TaskSystem.hpp   \n",
    "│   ├── Timer.hpp   \n",
    "│   └── utils.hpp   \n",
    "├── src                 # Source files\n",
    "│   ├── algorithms      # Implementation of scheduler algorithms\n",
    "│   │   ├── PFair.cpp\n",
    "│   │   └── PriorityDriven.cpp  \n",
    "│   ├── AsyncTask.cpp   \n",
    "│   ├── Display.cpp   \n",
    "│   ├── main.cpp\n",
    "│   ├── Processor.cpp   \n",
    "│   ├── Resource.cpp\n",
    "│   ├── Task.cpp    \n",
    "│   ├── TaskSystem.cpp\n",
    "│   └── Timer.cpp\n",
    "├── tasksets            # Taskset files\n",
    "│   ├── example.txt\n",
    "│   └── ...\n",
    "├── LICENSE\n",
    "└── README.md\n",
    "```"
   ]
  },
  {
   "cell_type": "markdown",
   "metadata": {},
   "source": [
    "### Class Structure\n",
    "\n",
    "![title](images/class_structure.jpg)"
   ]
  },
  {
   "cell_type": "markdown",
   "metadata": {},
   "source": [
    "## Building and Running"
   ]
  },
  {
   "cell_type": "markdown",
   "metadata": {},
   "source": [
    "The following steps are required to build and run the project:\n",
    "1. Install NCURSES library. Although the library is usually shipped with C++ installation, in case the library is not already installed or want to compile from source:\n",
    "    - download the package from ftp://ftp.gnu.org/pub/gnu/ncurses/ncurses.tar.gz\n",
    "    - read the README and INSTALL files for details on to how to install it. It usually involves the following operations. (ref: https://tldp.org/HOWTO/NCURSES-Programming-HOWTO/intro.html)\n",
    "    - on Linux, ```sudo apt-get install libncurses5-dev libncursesw5-dev```\n",
    "\n",
    "2. Set the compiler to gcc-9 and g++-9, if not already the default.\n",
    "    - ```export CC=<PATH_TO_GCC-9>```\n",
    "    - ```export CXX=<PATH_TO_G++-9>``` \n",
    "\n",
    "3. Create a build directory and build with CMAKE.\n",
    "\n",
    "4. Run the executable with the following options (command line arguments):\n",
    "    - ```./RTSSimulator <TASKSET_FILENAME> <NUM_PROCESSORS> <NUM_STEPS> <SCHEDULER>```\n",
    "    - e.g. ```./RTSSimulator tasksets/example.txt 2 1000 pFair```\n",
    "    - ```<SCHEDULER>``` option can be any of ```pFair, LLF, DM, or EDF```. \n",
    "\n",
    "4. Check the examples tasksets provided in `tasksets/example.txt` and `tasksets/canonical.txt`. The structure is as follows:\n",
    "    ```\n",
    "    <TOTAL_UTILIZATION>\n",
    "    <NUM_TASKS>\n",
    "    <$C_1$, $T_1$>\n",
    "    <$C_2$, $T_2$>\n",
    "    ...\n",
    "    ```"
   ]
  },
  {
   "cell_type": "markdown",
   "metadata": {},
   "source": [
    "## The Expected Behavior"
   ]
  },
  {
   "cell_type": "markdown",
   "metadata": {},
   "source": [
    "The RTSSimulator executor is run, specifying the taskset file, the number of processors, the number of steps, and the scheduling algorithm as described above. pFair is the default scheduler and the default number of time_steps is the lowest common multiple ($LCM$) of the tasks' periods ($T$'s).\n",
    "\n",
    "When the program is launched, a ```TaskSystem``` instance is created with the specified number of processors. Then the task system loads the tasks from the input file and validates that the sum total utilization of the tasks does not exceed the capacity of the cores.\n",
    "\n",
    "The scheduling algorithm queries the ready (and completed if necessart) state(s) of the task system, orders the jobs of the tasks in the ready 'queue', and outputs the indices of the top $m$ ready jobs. These indices are used by the task system to run the corresponding jobs each of which is allocated a processor on which to run. The remaining ready and completed jobs are idled. All the jobs are dispatched to step for the specified time delta. When a job completes its execution, it is moved to the completed tasks set, waiting for its next job release when it is then moved to the ready 'queue'.\n",
    "\n",
    "The traces of the execution of jobs are shown through the NCURSES display and the dynamics of the ready and running jobs are listed. An example output is provided below:\n",
    "![title](images/traces.png)\n"
   ]
  },
  {
   "cell_type": "markdown",
   "metadata": {},
   "source": [
    "## Addressed Rubric Points"
   ]
  },
  {
   "cell_type": "markdown",
   "metadata": {},
   "source": [
    "### Loops, Functions, I/O\n",
    "1. The project demonstrates an understanding of C++ functions and control structures.\n",
    "    - A variety of control structures are used in the project: Control structures are used throughout the project. Examples of interesting ones are found in ```src/main.cpp lines 35-52``` and ```src/TaskSystem.cpp lines 223 - 244```.\n",
    "\n",
    "    - The project code is clearly organized into functions: Object Oriented Programming is adopted and the complex program is divided into components each of which groups related functions.\n",
    "\n",
    "2. The project reads data from a file and process the data, or the program writes data to a file.\n",
    "    - The project reads data from an external file or writes data to a file as part of the necessary operation of the program: The program takes inputs as command line arguments when the program is run (see ```src/main.cpp lines 16-25```). Additionally, one of the inputs is a filename to load the tasks from disk (see ```src/TaskSystem.cpp lines 159-174```).\n",
    "\n",
    "3. The project accepts user input and processes the input.\n",
    "    - The project accepts input from a user as part of the necessary operation of the program: The program takes inputs as command line arguments when the program is run (see ```src/main.cpp lines 16-25```)\n",
    "\n",
    "### Object Oriented Programming\n",
    "1. The project uses Object Oriented Programming techniques.\n",
    "    - The project code is organized into classes with class attributes to hold the data, and class methods to perform tasks: The project heavily uses OOP by dividing up the operations and grouping related logics and data into appropriate classes.\n",
    "\n",
    "2. Classes use appropriate access specifiers for class members.\n",
    "    - All class data members are explicitly specified as public, protected, or private: Done!\n",
    "\n",
    "3. Class constructors utilize member initialization lists.\n",
    "    - All class members that are set to argument values are initialized through member initialization lists: See ```src/TaskSystem.cpp line 15```, ```src/AsyncTask.cpp lines 5-10```, ```src/Display line 3```, ```src/Processor.cpp line 3```, and ```src/Task.cpp lines 5-6```.\n",
    "\n",
    "4. Classes abstract implementation details from their interfaces.\n",
    "    - All class member functions document their effects, either through function names, comments, or formal documentation. Member functions do not change program state in undocumented ways: All the class member functions use clear function names, comments, and in some cases doumentation to describe their effects. See ```src/TaskSystem.cpp lines 76, 112, 175, 209``` for examples.\n",
    "\n",
    "5. Classes follow an appropriate inheritance hierarchy.\n",
    "    - Inheritance hierarchies are logical. Composition is used instead of inheritance when appropriate. Abstract classes are composed of pure virtual functions. Override functions are specified: See ```include/Task.hpp line 11``` and ```include/AsyncTask.hpp line 11``` for inheritance examples; ```include/TaskSystem.hpp lines 52-53``` for composition examples; and ```include/Task.hpp lines 60-61``` and ```include/AsyncTask.hpp lines 21-22``` for virtual and override examples.\n",
    "\n",
    "6. Overloaded functions allow the same function to operate on different parameters.\n",
    "    - One function is overloaded with different signatures for the same function name: See ```include/TaskSystem.hpp lines 57-58```.\n",
    "\n",
    "7. Derived class functions override virtual base class functions.\n",
    "    - One member function in an inherited class overrides a virtual base class member function: See ```include/Task.hpp lines 60-61``` and ```include/AsyncTask.hpp lines 21-22```.\n",
    "\n",
    "8. Templates generalize functions in the project.\n",
    "    - One function is declared with a template that allows it to accept a generic parameter: See ```include/utils.hpp lines 11 and 21```.\n",
    "\n",
    "### Memory Management\n",
    "1. The project makes use of references in function declarations.\n",
    "    - At least two variables are defined as references, or two functions use pass-by-reference in the project code: See ```include/TaskSystem.hpp lines 56-59```.\n",
    "\n",
    "2. The project uses destructors appropriately.\n",
    "    - At least one class that uses unmanaged dynamically allocated memory, along with any class that otherwise needs to modify state upon the termination of an object, uses a destructor: See ```src/Display.cpp line 21``` and ```src/Processor.cpp line 24```.\n",
    "\n",
    "3. The project uses scope / Resource Acquisition Is Initialization (RAII) where appropriate.\n",
    "    - The project follows the Resource Acquisition Is Initialization pattern where appropriate, by allocating objects at compile-time, initializing objects when they are declared, and utilizing scope to ensure their automatic destruction: See ```src/TaskSystem.cpp lines 21-22```.\n",
    "\n",
    "4. The project follows the Rule of 5.\n",
    "    - For all classes, if any one of the copy constructor, copy assignment operator, move constructor, move assignment operator, and destructor are defined, then all of these functions are defined: See ```include/TaskSystem.hpp lines 20-24```, ```include/AsyncTask.hpp lines 15-19``` and ```include/TaskSystem.hpp lines 20-24``` for examples.\n",
    "\n",
    "5. The project uses move semantics to move data, instead of copying it, where possible.\n",
    "    - For classes with move constructors, the project returns objects of that class by value, and relies on the move constructor, instead of copying the object: See ```src/main.cpp lines 38-40```.\n",
    "\n",
    "6. The project uses smart pointers instead of raw pointers.\n",
    "    - The project uses at least one smart pointer: unique_ptr, shared_ptr, or weak_ptr. The project does not use raw pointers: See ```include/TaskSystem.hpp lines 14, 52-53``` for examples.\n",
    "\n",
    "### Concurrency\n",
    "1. The project uses multithreading.\n",
    "    - The project uses multiple threads in the execution: See ```include/Processor.hpp lines 17, 22``` and ```src/AsyncTask.cpp line 51```.\n",
    "\n",
    "2. A promise and future is used in the project.\n",
    "    - A promise and future is used to pass data from a worker thread to a parent thread in the project code: Not used!\n",
    "\n",
    "3. A mutex or lock is used in the project.\n",
    "    - A mutex or lock (e.g. std::lock_guard or `std::unique_lock) is used to protect data that is shared across multiple threads in the project code: See ```src/Timer.cpp lines 4, 10, and 15``` for examples.\n",
    "\n",
    "4. A condition variable is used in the project.\n",
    "    - A std::condition_variable is used in the project code to synchronize thread execution: See ```src/Timer.cpp lines 6 and 11``` for an example.\n",
    "\n"
   ]
  },
  {
   "cell_type": "markdown",
   "metadata": {},
   "source": []
  }
 ],
 "metadata": {
  "kernelspec": {
   "display_name": "Python 3.9.0 ('rllib')",
   "language": "python",
   "name": "python3"
  },
  "language_info": {
   "codemirror_mode": {
    "name": "ipython",
    "version": 3
   },
   "file_extension": ".py",
   "mimetype": "text/x-python",
   "name": "python",
   "nbconvert_exporter": "python",
   "pygments_lexer": "ipython3",
   "version": "3.9.0"
  },
  "orig_nbformat": 4,
  "vscode": {
   "interpreter": {
    "hash": "12d644bfd6a40dbe518adab11d6c05edd9a4e0828820d5bd25e9fd02b594de02"
   }
  }
 },
 "nbformat": 4,
 "nbformat_minor": 2
}
